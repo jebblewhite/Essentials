{
 "cells": [
  {
   "cell_type": "markdown",
   "metadata": {},
   "source": [
    "## Exercise\n",
    "Here is an example for you to have a go at. Try defining a class for a cylinder. It should contain: <br>\n",
    "- 2 parameters:\n",
    "    - height\n",
    "    - radius, which should have a default value of 1\n",
    "<br><br>\n",
    "- 4 attributes:\n",
    "    - height\n",
    "    - radius\n",
    "    - surface_area, initialised as None\n",
    "    - volume, initialised as None\n",
    "<br><br>\n",
    "- 2 methods:\n",
    "    - get_surface_area: define surface_area, update attribute surface_area, return surface_area rounded to 2dp.\n",
    "    - get_volume: define volume, update attribute volume, return volume rounded to 2dp.\n",
    "<br><br>\n",
    "- Use google to find the formulae for surface area and volume of a cylinder.\n",
    "- Use the formulae to create method definitions for these."
   ]
  },
  {
   "cell_type": "code",
   "execution_count": 13,
   "metadata": {
    "ExecuteTime": {
     "end_time": "2021-08-05T18:57:42.561899Z",
     "start_time": "2021-08-05T18:57:42.557755Z"
    }
   },
   "outputs": [],
   "source": [
    "from math import pi\n",
    "class Cylinder:\n",
    "    def __init__(self, height, radius):\n",
    "        self.height = height\n",
    "        self.radius = radius\n",
    "        self.surface_area = None\n",
    "        self.volume = None\n",
    "    \n",
    "    def get_surface_area(self):\n",
    "        self.surface_area = round(self.height+2*(pi*(self.radius**2)),2)\n",
    "    def get_volume(self):\n",
    "        self.volume = round(self.height*(pi*(self.radius**2)),2)"
   ]
  },
  {
   "cell_type": "code",
   "execution_count": 14,
   "metadata": {
    "ExecuteTime": {
     "end_time": "2021-08-05T18:57:43.222804Z",
     "start_time": "2021-08-05T18:57:43.220274Z"
    }
   },
   "outputs": [],
   "source": [
    "cyl = Cylinder(3,4)"
   ]
  },
  {
   "cell_type": "code",
   "execution_count": 15,
   "metadata": {
    "ExecuteTime": {
     "end_time": "2021-08-05T18:57:43.446729Z",
     "start_time": "2021-08-05T18:57:43.444051Z"
    }
   },
   "outputs": [
    {
     "name": "stdout",
     "output_type": "stream",
     "text": [
      "None\n"
     ]
    }
   ],
   "source": [
    "print(cyl.surface_area)"
   ]
  },
  {
   "cell_type": "code",
   "execution_count": 16,
   "metadata": {
    "ExecuteTime": {
     "end_time": "2021-08-05T18:57:44.071204Z",
     "start_time": "2021-08-05T18:57:44.068697Z"
    }
   },
   "outputs": [],
   "source": [
    "cyl.get_surface_area()"
   ]
  },
  {
   "cell_type": "code",
   "execution_count": 17,
   "metadata": {
    "ExecuteTime": {
     "end_time": "2021-08-05T18:57:44.550634Z",
     "start_time": "2021-08-05T18:57:44.547891Z"
    }
   },
   "outputs": [
    {
     "name": "stdout",
     "output_type": "stream",
     "text": [
      "103.53\n"
     ]
    }
   ],
   "source": [
    "print(cyl.surface_area)"
   ]
  },
  {
   "cell_type": "code",
   "execution_count": null,
   "metadata": {},
   "outputs": [],
   "source": []
  }
 ],
 "metadata": {
  "interpreter": {
   "hash": "aee8b7b246df8f9039afb4144a1f6fd8d2ca17a180786b69acc140d282b71a49"
  },
  "kernelspec": {
   "display_name": "Python 3 (ipykernel)",
   "language": "python",
   "name": "python3"
  },
  "language_info": {
   "codemirror_mode": {
    "name": "ipython",
    "version": 3
   },
   "file_extension": ".py",
   "mimetype": "text/x-python",
   "name": "python",
   "nbconvert_exporter": "python",
   "pygments_lexer": "ipython3",
   "version": "3.9.6"
  }
 },
 "nbformat": 4,
 "nbformat_minor": 2
}
