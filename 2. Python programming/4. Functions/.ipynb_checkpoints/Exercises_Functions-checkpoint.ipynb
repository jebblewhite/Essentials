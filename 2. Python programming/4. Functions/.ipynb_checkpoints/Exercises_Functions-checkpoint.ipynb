{
 "cells": [
  {
   "cell_type": "markdown",
   "metadata": {},
   "source": [
    "## Exercise 1"
   ]
  },
  {
   "cell_type": "markdown",
   "metadata": {},
   "source": [
    "Write a function called check_range that checks whether a number is in a given range (inclusive of both low *__and__* high). <br>\n",
    "If it is, return \"x is between y and z.\" <br>\n",
    "If it isn't, return \"x is NOT between y and z.\" <br>\n",
    "Where:\n",
    "- x is the number\n",
    "- y is the lower bound\n",
    "- z is the upper bound"
   ]
  },
  {
   "cell_type": "code",
   "execution_count": null,
   "metadata": {},
   "outputs": [],
   "source": [
    "# CODE HERE"
   ]
  },
  {
   "cell_type": "code",
   "execution_count": null,
   "metadata": {},
   "outputs": [],
   "source": [
    "check_range(34, 9, 228)"
   ]
  },
  {
   "cell_type": "code",
   "execution_count": null,
   "metadata": {},
   "outputs": [],
   "source": [
    "check_range(7, 2, 5)"
   ]
  },
  {
   "cell_type": "markdown",
   "metadata": {},
   "source": [
    "Write a function called bool_range which does the same thing but returns only a boolean."
   ]
  },
  {
   "cell_type": "code",
   "execution_count": null,
   "metadata": {},
   "outputs": [],
   "source": [
    "# CODE HERE"
   ]
  },
  {
   "cell_type": "code",
   "execution_count": null,
   "metadata": {},
   "outputs": [],
   "source": [
    "bool_range(7, 5, 20)"
   ]
  },
  {
   "cell_type": "code",
   "execution_count": null,
   "metadata": {},
   "outputs": [],
   "source": [
    "bool_range(67, 22, 25)"
   ]
  },
  {
   "cell_type": "markdown",
   "metadata": {},
   "source": [
    "## Exercise 2"
   ]
  },
  {
   "cell_type": "markdown",
   "metadata": {},
   "source": [
    "Write a function called unique_list that takes in a list and returns a list with only the unique elements of the input."
   ]
  },
  {
   "cell_type": "code",
   "execution_count": null,
   "metadata": {},
   "outputs": [],
   "source": [
    "# CODE HERE"
   ]
  },
  {
   "cell_type": "code",
   "execution_count": null,
   "metadata": {},
   "outputs": [],
   "source": [
    "my_list = [1,3,5,6,4,3,2,3,3,4,3,4,5,6,6,4,3,2,12,3,5,63,4,5,3,3,2]\n",
    "\n",
    "unique_list(my_list)"
   ]
  },
  {
   "cell_type": "markdown",
   "metadata": {},
   "source": [
    "Find another way of performing the same operation without defining a function."
   ]
  },
  {
   "cell_type": "code",
   "execution_count": null,
   "metadata": {},
   "outputs": [],
   "source": [
    "# CODE HERE"
   ]
  },
  {
   "cell_type": "markdown",
   "metadata": {},
   "source": [
    "## Exercise 3"
   ]
  },
  {
   "cell_type": "markdown",
   "metadata": {},
   "source": [
    "Write a function called volume_of_sphere that takes in the radius of a sphere and returns its volume rounded to 2dp. (Google the formula for volume of a sphere, use pi = 3.14)"
   ]
  },
  {
   "cell_type": "code",
   "execution_count": null,
   "metadata": {},
   "outputs": [],
   "source": [
    "# CODE HERE"
   ]
  },
  {
   "cell_type": "code",
   "execution_count": null,
   "metadata": {},
   "outputs": [],
   "source": [
    "volume_of_sphere(2)"
   ]
  },
  {
   "cell_type": "markdown",
   "metadata": {},
   "source": [
    "## Exercise 4"
   ]
  },
  {
   "cell_type": "markdown",
   "metadata": {},
   "source": [
    "Define a recursive function called num_fact that returns the factorial of a given number."
   ]
  },
  {
   "cell_type": "code",
   "execution_count": null,
   "metadata": {},
   "outputs": [],
   "source": [
    "# CODE HERE"
   ]
  },
  {
   "cell_type": "code",
   "execution_count": null,
   "metadata": {},
   "outputs": [],
   "source": [
    "num_fact(10)"
   ]
  },
  {
   "cell_type": "markdown",
   "metadata": {},
   "source": [
    "## Fizzbuzz Exercise"
   ]
  },
  {
   "cell_type": "code",
   "execution_count": 2,
   "metadata": {
    "ExecuteTime": {
     "end_time": "2021-08-03T19:52:55.554063Z",
     "start_time": "2021-08-03T19:52:55.550601Z"
    }
   },
   "outputs": [],
   "source": [
    "def fizzbuzzed(m,n,howlong=100):\n",
    "    \"\"\"\n",
    "    Performs fizzbuzz on two numbers in a specified range\n",
    "    \n",
    "    Parameters:\n",
    "        m: int\n",
    "        n: int\n",
    "        howlong: int >> m, n\n",
    "    \"\"\"\n",
    "    return[\"fizz\"*(num%m==0)+\"buzz\"*(num%n==0) or num for num in range(howlong)]"
   ]
  },
  {
   "cell_type": "code",
   "execution_count": 3,
   "metadata": {
    "ExecuteTime": {
     "end_time": "2021-08-03T19:53:10.253751Z",
     "start_time": "2021-08-03T19:53:10.242651Z"
    }
   },
   "outputs": [
    {
     "data": {
      "text/plain": [
       "['fizzbuzz',\n",
       " 1,\n",
       " 2,\n",
       " 3,\n",
       " 4,\n",
       " 5,\n",
       " 'fizz',\n",
       " 7,\n",
       " 'buzz',\n",
       " 9,\n",
       " 10,\n",
       " 11,\n",
       " 'fizz',\n",
       " 13,\n",
       " 14,\n",
       " 15,\n",
       " 'buzz',\n",
       " 17,\n",
       " 'fizz',\n",
       " 19,\n",
       " 20,\n",
       " 21,\n",
       " 22,\n",
       " 23,\n",
       " 'fizzbuzz',\n",
       " 25,\n",
       " 26,\n",
       " 27,\n",
       " 28,\n",
       " 29,\n",
       " 'fizz',\n",
       " 31,\n",
       " 'buzz',\n",
       " 33,\n",
       " 34,\n",
       " 35,\n",
       " 'fizz',\n",
       " 37,\n",
       " 38,\n",
       " 39,\n",
       " 'buzz',\n",
       " 41,\n",
       " 'fizz',\n",
       " 43,\n",
       " 44,\n",
       " 45,\n",
       " 46,\n",
       " 47,\n",
       " 'fizzbuzz',\n",
       " 49,\n",
       " 50,\n",
       " 51,\n",
       " 52,\n",
       " 53,\n",
       " 'fizz',\n",
       " 55,\n",
       " 'buzz',\n",
       " 57,\n",
       " 58,\n",
       " 59,\n",
       " 'fizz',\n",
       " 61,\n",
       " 62,\n",
       " 63,\n",
       " 'buzz',\n",
       " 65,\n",
       " 'fizz',\n",
       " 67,\n",
       " 68,\n",
       " 69,\n",
       " 70,\n",
       " 71,\n",
       " 'fizzbuzz',\n",
       " 73,\n",
       " 74,\n",
       " 75,\n",
       " 76,\n",
       " 77,\n",
       " 'fizz',\n",
       " 79,\n",
       " 'buzz',\n",
       " 81,\n",
       " 82,\n",
       " 83,\n",
       " 'fizz',\n",
       " 85,\n",
       " 86,\n",
       " 87,\n",
       " 'buzz',\n",
       " 89,\n",
       " 'fizz',\n",
       " 91,\n",
       " 92,\n",
       " 93,\n",
       " 94,\n",
       " 95,\n",
       " 'fizzbuzz',\n",
       " 97,\n",
       " 98,\n",
       " 99]"
      ]
     },
     "execution_count": 3,
     "metadata": {},
     "output_type": "execute_result"
    }
   ],
   "source": [
    "fizzbuzzed(6,8,100)"
   ]
  },
  {
   "cell_type": "markdown",
   "metadata": {},
   "source": [
    "## Szymon's Extra Fizzbuzz Exercise"
   ]
  },
  {
   "cell_type": "code",
   "execution_count": 11,
   "metadata": {
    "ExecuteTime": {
     "end_time": "2021-08-03T20:13:13.735767Z",
     "start_time": "2021-08-03T20:13:13.731552Z"
    }
   },
   "outputs": [],
   "source": [
    "def fizzbuzzextra(values=range(100),m=3,n=5):\n",
    "    \"\"\"\n",
    "    Performs fizzbuzz on two numbers in a specified range\n",
    "    \n",
    "    Parameters:\n",
    "        m: int\n",
    "        n: int\n",
    "        values: list or tuple\n",
    "    \"\"\"\n",
    "    fizz = []\n",
    "    buzz = []\n",
    "    fizzbuzz = []\n",
    "    for value in values:\n",
    "        if value % m*n == 0:\n",
    "            fizzbuzz.append(value)\n",
    "        elif value % m == 0:\n",
    "            fizz.append(value)\n",
    "        elif value % n == 0:\n",
    "            buzz.append(value)\n",
    "    return fizz, buzz, fizzbuzz\n",
    "        \n",
    "            \n",
    "    "
   ]
  },
  {
   "cell_type": "code",
   "execution_count": 12,
   "metadata": {
    "ExecuteTime": {
     "end_time": "2021-08-03T20:13:22.437376Z",
     "start_time": "2021-08-03T20:13:22.434339Z"
    }
   },
   "outputs": [
    {
     "name": "stdout",
     "output_type": "stream",
     "text": [
      "([], [20], [24, 546, 750])\n"
     ]
    }
   ],
   "source": [
    "print(fizzbuzzextra([1,2,4,7,24,546,750,20]))"
   ]
  },
  {
   "cell_type": "markdown",
   "metadata": {},
   "source": [
    "## Extra part 2"
   ]
  },
  {
   "cell_type": "code",
   "execution_count": 23,
   "metadata": {
    "ExecuteTime": {
     "end_time": "2021-08-03T20:30:02.350512Z",
     "start_time": "2021-08-03T20:30:02.346006Z"
    }
   },
   "outputs": [],
   "source": [
    "from math import sqrt\n",
    "def fizzbuzzextra2(values,m,n=None):\n",
    "    \"\"\"\n",
    "    Performs fizzbuzz advanced on two numbers in a specified range\n",
    "    \n",
    "    Parameters:\n",
    "        m: int\n",
    "        n: int\n",
    "        values: list or tuple\n",
    "        \n",
    "    Returns:\n",
    "        fizz, buzz, fizzbuzz: lists\n",
    "    \"\"\"\n",
    "    fizz, buzz, fizzbuzz = [],[],[]\n",
    "    if n==None:\n",
    "        n = round(sqrt(m*7))\n",
    "    for value in values:\n",
    "        if value%m == 0 and value%n == 0:\n",
    "            fizzbuzz.append(value)\n",
    "        elif value%m == 0:\n",
    "            fizz.append(value)\n",
    "        elif value%n == 0:\n",
    "            buzz.append(value)\n",
    "    return fizz, buzz, fizzbuzz"
   ]
  },
  {
   "cell_type": "code",
   "execution_count": 24,
   "metadata": {
    "ExecuteTime": {
     "end_time": "2021-08-03T20:30:02.585370Z",
     "start_time": "2021-08-03T20:30:02.581001Z"
    }
   },
   "outputs": [
    {
     "data": {
      "text/plain": [
       "([9, 18, 27, 36, 45, 54, 63, 81, 90, 99],\n",
       " [8, 16, 24, 32, 40, 48, 56, 64, 80, 88, 96],\n",
       " [0, 72])"
      ]
     },
     "execution_count": 24,
     "metadata": {},
     "output_type": "execute_result"
    }
   ],
   "source": [
    "fizzbuzzextra2(range(100),9)"
   ]
  },
  {
   "cell_type": "code",
   "execution_count": null,
   "metadata": {
    "ExecuteTime": {
     "end_time": "2021-08-03T20:17:52.392227Z",
     "start_time": "2021-08-03T20:17:52.389895Z"
    }
   },
   "outputs": [],
   "source": []
  },
  {
   "cell_type": "code",
   "execution_count": 17,
   "metadata": {
    "ExecuteTime": {
     "end_time": "2021-08-03T20:17:54.642251Z",
     "start_time": "2021-08-03T20:17:54.638724Z"
    }
   },
   "outputs": [
    {
     "data": {
      "text/plain": [
       "49"
      ]
     },
     "execution_count": 17,
     "metadata": {},
     "output_type": "execute_result"
    }
   ],
   "source": []
  },
  {
   "cell_type": "code",
   "execution_count": null,
   "metadata": {},
   "outputs": [],
   "source": [
    "from math import sqrt\n",
    "def fizzbuzzextra2(values,m,n=None):\n",
    "    \"\"\"\n",
    "    Performs fizzbuzz advanced on two numbers in a specified range\n",
    "    \n",
    "    Parameters:\n",
    "        m: int\n",
    "        n: int\n",
    "        values: list or tuple\n",
    "        \n",
    "    Returns:\n",
    "        fizz, buzz, fizzbuzz: lists\n",
    "    \"\"\"\n",
    "    fizz, buzz, fizzbuzz = [],[],[]\n",
    "    if n==None:\n",
    "        n = round(sqrt(m*7))\n",
    "    for value in values:\n",
    "        if value%m == 0 and value%n == 0:\n",
    "            yield(value)\n",
    "        elif value%m == 0:\n",
    "            fizz.append(value)\n",
    "        elif value%n == 0:\n",
    "            buzz.append(value)\n",
    "    return fizz, buzz, fizzbuzz"
   ]
  }
 ],
 "metadata": {
  "interpreter": {
   "hash": "aee8b7b246df8f9039afb4144a1f6fd8d2ca17a180786b69acc140d282b71a49"
  },
  "kernelspec": {
   "display_name": "Python 3 (ipykernel)",
   "language": "python",
   "name": "python3"
  },
  "language_info": {
   "codemirror_mode": {
    "name": "ipython",
    "version": 3
   },
   "file_extension": ".py",
   "mimetype": "text/x-python",
   "name": "python",
   "nbconvert_exporter": "python",
   "pygments_lexer": "ipython3",
   "version": "3.9.6"
  }
 },
 "nbformat": 4,
 "nbformat_minor": 2
}
